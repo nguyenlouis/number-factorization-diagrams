{
 "metadata": {
  "language_info": {
   "codemirror_mode": {
    "name": "ipython",
    "version": 3
   },
   "file_extension": ".py",
   "mimetype": "text/x-python",
   "name": "python",
   "nbconvert_exporter": "python",
   "pygments_lexer": "ipython3",
   "version": 3
  },
  "orig_nbformat": 2
 },
 "nbformat": 4,
 "nbformat_minor": 2,
 "cells": [
  {
   "source": [
    "les packages utilisés "
   ],
   "cell_type": "markdown",
   "metadata": {}
  },
  {
   "cell_type": "code",
   "execution_count": null,
   "metadata": {},
   "outputs": [],
   "source": [
    "import math\n",
    "from math import sqrt\n",
    "import warnings\n",
    "import sympy as smp\n",
    "import sys\n",
    "from itertools import count\n",
    "import random\n",
    "from subprocess import check_call\n",
    "import os\n",
    "from PIL import Image\n",
    "from random import randint"
   ]
  },
  {
   "source": [],
   "cell_type": "markdown",
   "metadata": {}
  },
  {
   "source": [
    "fermat"
   ],
   "cell_type": "code",
   "metadata": {},
   "execution_count": null,
   "outputs": []
  },
  {
   "cell_type": "code",
   "execution_count": null,
   "metadata": {},
   "outputs": [],
   "source": [
    "def fermat(n):\n",
    "    if n&1==0:\n",
    "        return [n>>1, 2]  \n",
    "    x = lsqrt(n)\n",
    "    if x*x==n:\n",
    "        return [x, x]  \n",
    "    x += 1  \n",
    "    while True:\n",
    "        y2 = x*x-n\n",
    "        y = lsqrt(y2)\n",
    "        if y*y==y2:\n",
    "            break  \n",
    "        else:\n",
    "            x += 1\n",
    "    return [x-y, x+y]"
   ]
  },
  {
   "source": [
    "Wilson"
   ],
   "cell_type": "markdown",
   "metadata": {}
  },
  {
   "cell_type": "code",
   "execution_count": null,
   "metadata": {},
   "outputs": [],
   "source": [
    "from math import factorial\n",
    "#%%\n",
    "def wilson_factor(n):\n",
    "    return n > 1 and bool(n == 2 or\n",
    "                          (n % 2 and (factorial(n - 1) + 1) % n == 0))\n"
   ]
  },
  {
   "source": [
    "Fonction de factorisation"
   ],
   "cell_type": "markdown",
   "metadata": {}
  },
  {
   "cell_type": "code",
   "execution_count": null,
   "metadata": {},
   "outputs": [],
   "source": [
    "def factorization(self, n: int, function_name: str)->dict:\n",
    "         \"\"\"[function to generate a number factorization based on function name]\n",
    "\n",
    "         Args:\n",
    "             n (int): [number to factorize]\n",
    "             function_name (str): [Factorization function name used to get the factors]\n",
    "\n",
    "         Returns:\n",
    "             dict: [dictionary of each factor's multiplicity]\n",
    "         \"\"\"\n",
    "         factors = {}\n",
    "         for p1 in eval(\"self.\"+function_name+\"(\"+str(n)+\")\"):\n",
    "             try:\n",
    "                 factors[p1] += 1\n",
    "             except KeyError:\n",
    "                 factors[p1] = 1\n",
    "         return factors"
   ]
  },
  {
   "source": [
    "Test avec la fonctin Wilson"
   ],
   "cell_type": "markdown",
   "metadata": {}
  },
  {
   "cell_type": "code",
   "execution_count": null,
   "metadata": {},
   "outputs": [],
   "source": [
    "try:\n",
    "    number = int(input('Enter a number : '))\n",
    "except(ValueError) :\n",
    "    print('Please enter an integer !')\n",
    "num = number\n",
    "wilson_factor = []\n",
    "if smp.isprime(number) :\n",
    "    wilson_factor.append(number)\n",
    "else :\n",
    "    for i in range(2, int(number/2) + 1) :   \n",
    "        \"\"\"while figuring out prime factors of a given number, n\n",
    "        keep in mind that a number can itself be prime or if not, \n",
    "        then all its prime factors will be less than or equal to its int(n/2 + 1)\"\"\"\n",
    "        if smp.isprime(i) and number % i == 0 :\n",
    "            while(number % i == 0) :\n",
    "                wilson_factor.append(i)\n",
    "                number = number  / i\n",
    "print('wilson factor of ' + str(num) + ' - ')\n",
    "for i in wilson_factor :\n",
    "    print(i)\n",
    "#%%\n",
    "# resultat du test avec un nombre =24\n",
    "wilson factor of 24 - \n",
    "2\n",
    "2\n",
    "2\n",
    "3"
   ]
  },
  {
   "source": [
    "Test avec Fermat"
   ],
   "cell_type": "markdown",
   "metadata": {}
  },
  {
   "cell_type": "code",
   "execution_count": null,
   "metadata": {},
   "outputs": [],
   "source": [
    "def test_fermat(self):\n",
    "        actual=Factorization().fermat(14)\n",
    "        expected=[2,7]\n",
    "        self.assertEqual(actual,expected)"
   ]
  },
  {
   "source": [
    "Les points des diagrammes"
   ],
   "cell_type": "markdown",
   "metadata": {}
  },
  {
   "cell_type": "code",
   "execution_count": null,
   "metadata": {},
   "outputs": [],
   "source": [
    "def createnode(self, x:int)->str:\n",
    "        \"\"\"Function to add new node to the graph\n",
    "        Args:\n",
    "            x (int): type of nodes\n",
    "                    -  x=0 : the node will be in the last stage of the tree (Black nodes)\n",
    "                    -  x=1 : the node will be in the other stages of the tree\n",
    "        Returns:\n",
    "            str: node description \n",
    "        \"\"\"\n",
    "        global nodenames\n",
    "        name = random.random()\n",
    "        while name in self.nodenames:\n",
    "            name = random.random()\n",
    "        self.nodenames.add(name)\n",
    "        if x == 1:\n",
    "            self.graph_description.append('\"'+str(name)+'\"'+self.whitenode)\n",
    "        else:\n",
    "            self.graph_description.append('\"'+str(name)+'\"'+self.blacknode)\n",
    "        return '\"'+str(name)+'\"'"
   ]
  },
  {
   "source": [
    "la focntion qui lie les points desdiagrams"
   ],
   "cell_type": "markdown",
   "metadata": {}
  },
  {
   "cell_type": "code",
   "execution_count": null,
   "metadata": {},
   "outputs": [],
   "source": [
    "\n",
    "\n",
    "    def createedge(self, x:str, y:str, t:int)-> str:\n",
    "        \"\"\"Function to create a connection between the nodes and stages\n",
    "        Args:\n",
    "            x (str): nodes 1\n",
    "            y (str): nodes 2\n",
    "            t (int): nodes type\n",
    "                -  t=0 : last stage of the tree\n",
    "                -  t=1 : all other stages\n",
    "        Returns:\n",
    "            str: return the connection description between the nodes\n",
    "        \"\"\"\n",
    "        if t == 1:\n",
    "            self.graph_description.append(x + '--' + y + ' [color=\"blue\"]')\n",
    "        if t == 0:\n",
    "            self.graph_description.append(x + '--' + y + ' [color=yellow]')\n",
    "        return x + '--' + y\n"
   ]
  },
  {
   "cell_type": "code",
   "execution_count": null,
   "metadata": {},
   "outputs": [],
   "source": [
    "test "
   ]
  },
  {
   "cell_type": "code",
   "execution_count": null,
   "metadata": {},
   "outputs": [],
   "source": [
    "def test_draw_factor_fermat(n):\n",
    "        actual=Factorization().draw_factor(24,\"fermat\",False,False)\n",
    "        assertTrue(actual)"
   ]
  },
  {
   "cell_type": "code",
   "execution_count": null,
   "metadata": {},
   "outputs": [],
   "source": []
  },
  {
   "cell_type": "code",
   "execution_count": null,
   "metadata": {},
   "outputs": [],
   "source": [
    "def test_draw_wilson_factor(self):\n",
    "        actual=Factorization().draw_factor(24,\"wilson_factor\",False,False)\n",
    "        self.assertTrue(actual)"
   ]
  },
  {
   "source": [
    "la fonction qui permet d'afficher les images des diagrammes de chaque nombre "
   ],
   "cell_type": "markdown",
   "metadata": {}
  },
  {
   "cell_type": "code",
   "execution_count": null,
   "metadata": {},
   "outputs": [],
   "source": [
    "\n",
    "    def test_draw_factor_poster(self):\n",
    "        Factorization().draw_factor_poster(list(range(1,10)),\"fermat\")\n",
    "        exists= os.path.exists(\"../poster\")\n",
    "        self.assertTrue(exists)\n",
    "        expected=[]\n",
    "        for i in list(range(1,10)):\n",
    "            expected.append(str(i)+\"\\'s_Diagram.png\")\n",
    "        expected.sort()\n",
    "        actual=os.listdir(\"../poster/\")\n",
    "        actual.sort()\n",
    "        self.assertEqual(actual,expected)\n",
    "if __name__=='__main__':\n",
    "    with warnings.catch_warnings():\n",
    "        warnings.filterwarnings(\"ignore\")\n",
    "    unittest.main()\n",
    "\n",
    "    # %%\n",
    "    def test_draw_factor_poster(self):\n",
    "        Factorization().draw_factor_poster(list(range(1,10)),\"wilson_factor\")\n",
    "        exists= os.path.exists(\"../poster\")\n",
    "        self.assertTrue(exists)\n",
    "        expected=[]\n",
    "        for i in list(range(1,10)):\n",
    "            expected.append(str(i)+\"\\'s_Diagram.png\")\n",
    "        expected.sort()\n",
    "        actual=os.listdir(\"../poster/\")\n",
    "        actual.sort()\n",
    "        self.assertEqual(actual,expected)\n",
    "if __name__=='__main__':\n",
    "    with warnings.catch_warnings():\n",
    "        warnings.filterwarnings(\"ignore\")\n",
    "    unittest.main()\n"
   ]
  }
 ]
}